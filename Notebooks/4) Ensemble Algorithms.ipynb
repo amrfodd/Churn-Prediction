{
 "cells": [
  {
   "cell_type": "markdown",
   "id": "5d71f0ad",
   "metadata": {},
   "source": [
    "###### Import Libraries"
   ]
  },
  {
   "cell_type": "code",
   "execution_count": 1,
   "id": "418d7402",
   "metadata": {},
   "outputs": [],
   "source": [
    "from sklearn.linear_model import LogisticRegression\n",
    "from sklearn.metrics import roc_auc_score,classification_report\n",
    "from sklearn.tree import DecisionTreeClassifier\n",
    "from sklearn import tree\n",
    "from matplotlib import pyplot as plt\n",
    "from sklearn.preprocessing import OrdinalEncoder\n",
    "import numpy as np\n",
    "from sklearn.feature_selection import RFE\n",
    "from imblearn.over_sampling import SMOTE\n",
    "from sklearn.model_selection import train_test_split\n",
    "from sklearn.metrics import confusion_matrix\n",
    "import pandas as pd\n",
    "from google.colab import drive\n",
    "import warnings\n",
    "warnings.filterwarnings(\"ignore\")\n",
    "from sklearn.ensemble import RandomForestClassifier\n",
    "from sklearn.ensemble import AdaBoostClassifier\n",
    "#!pip install lime\n",
    "import lime\n",
    "import lime.lime_tabular"
   ]
  },
  {
   "cell_type": "code",
   "execution_count": 4,
   "id": "3e1ed3c0",
   "metadata": {},
   "outputs": [],
   "source": [
    "df=pd.read_csv('../Data/Processed.csv')"
   ]
  },
  {
   "cell_type": "markdown",
   "id": "51b18d6a",
   "metadata": {},
   "source": [
    "###### Baseline Model"
   ]
  },
  {
   "cell_type": "code",
   "execution_count": 5,
   "id": "bc2ecf71",
   "metadata": {},
   "outputs": [],
   "source": [
    "#Synthetic Minority Oversampling Technique. Generates new instances from existing minority cases that you supply as input.   \n",
    "def prepare_model_smote(df,class_col,cols_to_exclude):\n",
    "  cols=df.select_dtypes(include=np.number).columns.tolist() \n",
    "  X=df[cols]\n",
    "  X = X[X.columns.difference([class_col])]\n",
    "  X = X[X.columns.difference(cols_to_exclude)]\n",
    "  y=df[class_col]\n",
    "  global X_train, X_test, y_train, y_test\n",
    "  X_train, X_test, y_train, y_test = train_test_split(X, y, test_size=0.3, random_state=0)\n",
    "  sm = SMOTE(random_state=0, sampling_strategy=1.0)\n",
    "  X_train, y_train = sm.fit_resample(X_train, y_train) \n",
    "\n",
    "prepare_model_smote(df,class_col = 'churn',cols_to_exclude=['customer_id','phone_no', 'year'])"
   ]
  },
  {
   "cell_type": "code",
   "execution_count": 6,
   "id": "d4562dac",
   "metadata": {},
   "outputs": [
    {
     "name": "stdout",
     "output_type": "stream",
     "text": [
      "              precision    recall  f1-score   support\n",
      "\n",
      "         0.0       0.96      0.74      0.84       513\n",
      "         1.0       0.27      0.76      0.40        63\n",
      "\n",
      "    accuracy                           0.75       576\n",
      "   macro avg       0.62      0.75      0.62       576\n",
      "weighted avg       0.89      0.75      0.79       576\n",
      "\n",
      "The area under the curve is: 0.75\n"
     ]
    }
   ],
   "source": [
    "#for Logistics Regression\n",
    "def run_model(X_train,X_test,y_train,y_test):\n",
    "  global logreg #Defines the logistic model as a global model that can be used outside of this function\n",
    "  ##Fitting the logistic regression\n",
    "  logreg = LogisticRegression(random_state = 13)\n",
    "  logreg.fit(X_train, y_train)\n",
    "  ##Predicting y values\n",
    "  global y_pred #Defines the Y_Pred as a global variable that can be used outside of this function\n",
    "  y_pred = logreg.predict(X_test)\n",
    "  logit_roc_auc = roc_auc_score(y_test, logreg.predict(X_test))\n",
    "  print(classification_report(y_test, y_pred))\n",
    "  print(\"The area under the curve is: %0.2f\"%logit_roc_auc)\n",
    "    \n",
    "run_model(X_train,X_test,y_train,y_test)"
   ]
  },
  {
   "cell_type": "markdown",
   "id": "26956bed",
   "metadata": {},
   "source": [
    "###### Ensemble Model"
   ]
  },
  {
   "cell_type": "code",
   "execution_count": null,
   "id": "53a2f32e",
   "metadata": {},
   "outputs": [],
   "source": []
  },
  {
   "cell_type": "code",
   "execution_count": null,
   "id": "9151ab79",
   "metadata": {},
   "outputs": [],
   "source": []
  },
  {
   "cell_type": "code",
   "execution_count": null,
   "id": "524671fd",
   "metadata": {},
   "outputs": [],
   "source": []
  }
 ],
 "metadata": {
  "kernelspec": {
   "display_name": "Python 3 (ipykernel)",
   "language": "python",
   "name": "python3"
  },
  "language_info": {
   "codemirror_mode": {
    "name": "ipython",
    "version": 3
   },
   "file_extension": ".py",
   "mimetype": "text/x-python",
   "name": "python",
   "nbconvert_exporter": "python",
   "pygments_lexer": "ipython3",
   "version": "3.9.13"
  }
 },
 "nbformat": 4,
 "nbformat_minor": 5
}
