{
 "cells": [
  {
   "cell_type": "markdown",
   "id": "92bb134f",
   "metadata": {},
   "source": [
    "###### Import Libraries"
   ]
  },
  {
   "cell_type": "code",
   "execution_count": 32,
   "id": "c7e61b19",
   "metadata": {},
   "outputs": [],
   "source": [
    "import pandas as pd\n",
    "import seaborn as sns\n",
    "import statsmodels.api as sm\n",
    "import numpy as np\n",
    "from sklearn.model_selection import train_test_split\n",
    "from sklearn.linear_model import LogisticRegression\n",
    "from sklearn.metrics import roc_auc_score,classification_report\n",
    "\n",
    "# For class imbalance\n",
    "from imblearn.over_sampling import SMOTE"
   ]
  },
  {
   "cell_type": "markdown",
   "id": "9f4302f4",
   "metadata": {},
   "source": [
    "###### Load Data"
   ]
  },
  {
   "cell_type": "code",
   "execution_count": 2,
   "id": "db8d7dc3",
   "metadata": {},
   "outputs": [
    {
     "data": {
      "text/html": [
       "<div>\n",
       "<style scoped>\n",
       "    .dataframe tbody tr th:only-of-type {\n",
       "        vertical-align: middle;\n",
       "    }\n",
       "\n",
       "    .dataframe tbody tr th {\n",
       "        vertical-align: top;\n",
       "    }\n",
       "\n",
       "    .dataframe thead th {\n",
       "        text-align: right;\n",
       "    }\n",
       "</style>\n",
       "<table border=\"1\" class=\"dataframe\">\n",
       "  <thead>\n",
       "    <tr style=\"text-align: right;\">\n",
       "      <th></th>\n",
       "      <th>year</th>\n",
       "      <th>customer_id</th>\n",
       "      <th>phone_no</th>\n",
       "      <th>gender</th>\n",
       "      <th>age</th>\n",
       "      <th>no_of_days_subscribed</th>\n",
       "      <th>multi_screen</th>\n",
       "      <th>mail_subscribed</th>\n",
       "      <th>weekly_mins_watched</th>\n",
       "      <th>minimum_daily_mins</th>\n",
       "      <th>maximum_daily_mins</th>\n",
       "      <th>weekly_max_night_mins</th>\n",
       "      <th>videos_watched</th>\n",
       "      <th>maximum_days_inactive</th>\n",
       "      <th>customer_support_calls</th>\n",
       "      <th>churn</th>\n",
       "      <th>gender_code</th>\n",
       "      <th>multi_screen_code</th>\n",
       "      <th>mail_subscribed_code</th>\n",
       "    </tr>\n",
       "  </thead>\n",
       "  <tbody>\n",
       "    <tr>\n",
       "      <th>0</th>\n",
       "      <td>2015</td>\n",
       "      <td>100198</td>\n",
       "      <td>409-8743</td>\n",
       "      <td>Female</td>\n",
       "      <td>36</td>\n",
       "      <td>62</td>\n",
       "      <td>no</td>\n",
       "      <td>no</td>\n",
       "      <td>148.35</td>\n",
       "      <td>12.2</td>\n",
       "      <td>16.81</td>\n",
       "      <td>82</td>\n",
       "      <td>1</td>\n",
       "      <td>4.0</td>\n",
       "      <td>1</td>\n",
       "      <td>0.0</td>\n",
       "      <td>0.0</td>\n",
       "      <td>0.0</td>\n",
       "      <td>0.0</td>\n",
       "    </tr>\n",
       "    <tr>\n",
       "      <th>1</th>\n",
       "      <td>2015</td>\n",
       "      <td>100643</td>\n",
       "      <td>340-5930</td>\n",
       "      <td>Female</td>\n",
       "      <td>39</td>\n",
       "      <td>149</td>\n",
       "      <td>no</td>\n",
       "      <td>no</td>\n",
       "      <td>294.45</td>\n",
       "      <td>7.7</td>\n",
       "      <td>33.37</td>\n",
       "      <td>87</td>\n",
       "      <td>3</td>\n",
       "      <td>3.0</td>\n",
       "      <td>2</td>\n",
       "      <td>0.0</td>\n",
       "      <td>0.0</td>\n",
       "      <td>0.0</td>\n",
       "      <td>0.0</td>\n",
       "    </tr>\n",
       "    <tr>\n",
       "      <th>2</th>\n",
       "      <td>2015</td>\n",
       "      <td>100756</td>\n",
       "      <td>372-3750</td>\n",
       "      <td>Female</td>\n",
       "      <td>65</td>\n",
       "      <td>126</td>\n",
       "      <td>no</td>\n",
       "      <td>no</td>\n",
       "      <td>87.30</td>\n",
       "      <td>11.9</td>\n",
       "      <td>9.89</td>\n",
       "      <td>91</td>\n",
       "      <td>1</td>\n",
       "      <td>4.0</td>\n",
       "      <td>5</td>\n",
       "      <td>1.0</td>\n",
       "      <td>0.0</td>\n",
       "      <td>0.0</td>\n",
       "      <td>0.0</td>\n",
       "    </tr>\n",
       "    <tr>\n",
       "      <th>3</th>\n",
       "      <td>2015</td>\n",
       "      <td>101595</td>\n",
       "      <td>331-4902</td>\n",
       "      <td>Female</td>\n",
       "      <td>24</td>\n",
       "      <td>131</td>\n",
       "      <td>no</td>\n",
       "      <td>yes</td>\n",
       "      <td>321.30</td>\n",
       "      <td>9.5</td>\n",
       "      <td>36.41</td>\n",
       "      <td>102</td>\n",
       "      <td>4</td>\n",
       "      <td>3.0</td>\n",
       "      <td>3</td>\n",
       "      <td>0.0</td>\n",
       "      <td>0.0</td>\n",
       "      <td>0.0</td>\n",
       "      <td>1.0</td>\n",
       "    </tr>\n",
       "    <tr>\n",
       "      <th>4</th>\n",
       "      <td>2015</td>\n",
       "      <td>101653</td>\n",
       "      <td>351-8398</td>\n",
       "      <td>Female</td>\n",
       "      <td>40</td>\n",
       "      <td>191</td>\n",
       "      <td>no</td>\n",
       "      <td>no</td>\n",
       "      <td>243.00</td>\n",
       "      <td>10.9</td>\n",
       "      <td>27.54</td>\n",
       "      <td>83</td>\n",
       "      <td>7</td>\n",
       "      <td>3.0</td>\n",
       "      <td>1</td>\n",
       "      <td>0.0</td>\n",
       "      <td>0.0</td>\n",
       "      <td>0.0</td>\n",
       "      <td>0.0</td>\n",
       "    </tr>\n",
       "  </tbody>\n",
       "</table>\n",
       "</div>"
      ],
      "text/plain": [
       "   year  customer_id  phone_no  gender  age  no_of_days_subscribed  \\\n",
       "0  2015       100198  409-8743  Female   36                     62   \n",
       "1  2015       100643  340-5930  Female   39                    149   \n",
       "2  2015       100756  372-3750  Female   65                    126   \n",
       "3  2015       101595  331-4902  Female   24                    131   \n",
       "4  2015       101653  351-8398  Female   40                    191   \n",
       "\n",
       "  multi_screen mail_subscribed  weekly_mins_watched  minimum_daily_mins  \\\n",
       "0           no              no               148.35                12.2   \n",
       "1           no              no               294.45                 7.7   \n",
       "2           no              no                87.30                11.9   \n",
       "3           no             yes               321.30                 9.5   \n",
       "4           no              no               243.00                10.9   \n",
       "\n",
       "   maximum_daily_mins  weekly_max_night_mins  videos_watched  \\\n",
       "0               16.81                     82               1   \n",
       "1               33.37                     87               3   \n",
       "2                9.89                     91               1   \n",
       "3               36.41                    102               4   \n",
       "4               27.54                     83               7   \n",
       "\n",
       "   maximum_days_inactive  customer_support_calls  churn  gender_code  \\\n",
       "0                    4.0                       1    0.0          0.0   \n",
       "1                    3.0                       2    0.0          0.0   \n",
       "2                    4.0                       5    1.0          0.0   \n",
       "3                    3.0                       3    0.0          0.0   \n",
       "4                    3.0                       1    0.0          0.0   \n",
       "\n",
       "   multi_screen_code  mail_subscribed_code  \n",
       "0                0.0                   0.0  \n",
       "1                0.0                   0.0  \n",
       "2                0.0                   0.0  \n",
       "3                0.0                   1.0  \n",
       "4                0.0                   0.0  "
      ]
     },
     "execution_count": 2,
     "metadata": {},
     "output_type": "execute_result"
    }
   ],
   "source": [
    "df = pd.read_csv('../Data/Processed.csv')\n",
    "df.head()"
   ]
  },
  {
   "cell_type": "code",
   "execution_count": 5,
   "id": "8615b000",
   "metadata": {},
   "outputs": [
    {
     "name": "stdout",
     "output_type": "stream",
     "text": [
      "The variables: \n",
      "year                        int64\n",
      "customer_id                 int64\n",
      "phone_no                   object\n",
      "gender                     object\n",
      "age                         int64\n",
      "no_of_days_subscribed       int64\n",
      "multi_screen               object\n",
      "mail_subscribed            object\n",
      "weekly_mins_watched       float64\n",
      "minimum_daily_mins        float64\n",
      "maximum_daily_mins        float64\n",
      "weekly_max_night_mins       int64\n",
      "videos_watched              int64\n",
      "maximum_days_inactive     float64\n",
      "customer_support_calls      int64\n",
      "churn                     float64\n",
      "gender_code               float64\n",
      "multi_screen_code         float64\n",
      "mail_subscribed_code      float64\n",
      "dtype: object\n",
      "Total samples with missing values per variables:\n",
      "year                      0\n",
      "customer_id               0\n",
      "phone_no                  0\n",
      "gender                    0\n",
      "age                       0\n",
      "no_of_days_subscribed     0\n",
      "multi_screen              0\n",
      "mail_subscribed           0\n",
      "weekly_mins_watched       0\n",
      "minimum_daily_mins        0\n",
      "maximum_daily_mins        0\n",
      "weekly_max_night_mins     0\n",
      "videos_watched            0\n",
      "maximum_days_inactive     0\n",
      "customer_support_calls    0\n",
      "churn                     0\n",
      "gender_code               0\n",
      "multi_screen_code         0\n",
      "mail_subscribed_code      0\n",
      "dtype: int64\n",
      "map of missing values\n",
      "AxesSubplot(0.125,0.11;0.62x0.77)\n"
     ]
    },
    {
     "data": {
      "image/png": "[encoded data removed]",
      "text/plain": [
       "<Figure size 640x480 with 2 Axes>"
      ]
     },
     "metadata": {},
     "output_type": "display_data"
    }
   ],
   "source": [
    "def inspection(dataFrame):\n",
    "    print('The variables: ')\n",
    "    print(dataFrame.dtypes)\n",
    "    \n",
    "    print('Total samples with missing values per variables:')\n",
    "    print(df.isnull().sum())\n",
    "    \n",
    "    print('map of missing values')\n",
    "    print(sns.heatmap(dataFrame.isnull()))\n",
    "    \n",
    "inspection(df)"
   ]
  },
  {
   "cell_type": "markdown",
   "id": "ea3c2e59",
   "metadata": {},
   "source": [
    "###### Model"
   ]
  },
  {
   "cell_type": "code",
   "execution_count": 7,
   "id": "41d4acf3",
   "metadata": {},
   "outputs": [],
   "source": [
    "def logistic_regression(df,class_col,cols_to_exclude):\n",
    "    cols=df.select_dtypes(include=np.number).columns.tolist() \n",
    "    X=df[cols]\n",
    "    X = X[X.columns.difference([class_col])] \n",
    "    X = X[X.columns.difference(cols_to_exclude)] # unwanted columns \n",
    "\n",
    "    ## Scaling variables\n",
    "    ##from sklearn import preprocessing\n",
    "    ##scaler = preprocessing.StandardScaler().fit(X)\n",
    "    ##X_scaled = scaler.transform(X)\n",
    "    #X_Scale = scaler.transform(X)\n",
    "    \n",
    "    y=df[class_col] # the target variable \n",
    "    logit_model=sm.Logit(y,X) \n",
    "    result=logit_model.fit() # fit the model \n",
    "    print(result.summary2()) # check for summary "
   ]
  },
  {
   "cell_type": "code",
   "execution_count": 8,
   "id": "792bcbfb",
   "metadata": {},
   "outputs": [
    {
     "name": "stdout",
     "output_type": "stream",
     "text": [
      "Optimization terminated successfully.\n",
      "         Current function value: 0.336585\n",
      "         Iterations 7\n",
      "                            Results: Logit\n",
      "=======================================================================\n",
      "Model:                Logit              Pseudo R-squared:   0.137     \n",
      "Dependent Variable:   churn              AIC:                1315.1404 \n",
      "Date:                 2023-03-28 00:15   BIC:                1381.8488 \n",
      "No. Observations:     1918               Log-Likelihood:     -645.57   \n",
      "Df Model:             11                 LL-Null:            -748.02   \n",
      "Df Residuals:         1906               LLR p-value:        7.1751e-38\n",
      "Converged:            1.0000             Scale:              1.0000    \n",
      "No. Iterations:       7.0000                                           \n",
      "-----------------------------------------------------------------------\n",
      "                        Coef.  Std.Err.    z    P>|z|   [0.025   0.975]\n",
      "-----------------------------------------------------------------------\n",
      "age                    -0.0208   0.0068 -3.0739 0.0021  -0.0340 -0.0075\n",
      "customer_support_calls  0.4246   0.0505  8.4030 0.0000   0.3256  0.5237\n",
      "gender_code            -0.2144   0.1446 -1.4824 0.1382  -0.4979  0.0691\n",
      "mail_subscribed_code   -0.7529   0.1798 -4.1873 0.0000  -1.1053 -0.4005\n",
      "maximum_daily_mins     -3.7125  25.2522 -0.1470 0.8831 -53.2058 45.7809\n",
      "maximum_days_inactive  -0.7870   0.2473 -3.1828 0.0015  -1.2716 -0.3024\n",
      "minimum_daily_mins      0.2075   0.0727  2.8555 0.0043   0.0651  0.3499\n",
      "multi_screen_code       1.9511   0.1831 10.6562 0.0000   1.5923  2.3100\n",
      "no_of_days_subscribed  -0.0045   0.0018 -2.5572 0.0106  -0.0080 -0.0011\n",
      "videos_watched         -0.0948   0.0317 -2.9954 0.0027  -0.1569 -0.0328\n",
      "weekly_max_night_mins  -0.0169   0.0032 -5.3119 0.0000  -0.0231 -0.0107\n",
      "weekly_mins_watched     0.4248   2.8619  0.1484 0.8820  -5.1844  6.0340\n",
      "=======================================================================\n",
      "\n"
     ]
    }
   ],
   "source": [
    "logistic_regression(df,class_col = 'churn',cols_to_exclude=['customer_id','phone_no', 'year'])"
   ]
  },
  {
   "cell_type": "code",
   "execution_count": 10,
   "id": "7fe8ea76",
   "metadata": {},
   "outputs": [],
   "source": [
    "def prepare_model(df,class_col,cols_to_exclude):\n",
    "## Split in training and test set\n",
    "\n",
    "  ##Selecting only the numerical columns and excluding the columns we specified in the function\n",
    "  cols=df.select_dtypes(include=np.number).columns.tolist() \n",
    "  X=df[cols]\n",
    "  X = X[X.columns.difference([class_col])] \n",
    "  X = X[X.columns.difference(cols_to_exclude)]\n",
    "  ##Selecting y as a column\n",
    "  y=df[class_col]\n",
    "  global X_train, X_test, y_train, y_test #This allow us to do call these variables outside this function\n",
    "  X_train, X_test, y_train, y_test = train_test_split(X, y, test_size=0.3, random_state=0) # perform train test split"
   ]
  },
  {
   "cell_type": "code",
   "execution_count": 11,
   "id": "cd9b19ef",
   "metadata": {},
   "outputs": [],
   "source": [
    "def run_model(X_train,X_test,y_train,y_test):\n",
    "\n",
    "  global logreg #Defines the logistic model as a global model that can be used outside of this function\n",
    "  ##Fitting the logistic regression\n",
    "  logreg = LogisticRegression(random_state = 13)\n",
    "  logreg.fit(X_train, y_train) # fit the model\n",
    "  ##Predicting y values\n",
    "  global y_pred #Defines the Y_Pred as a global variable that can be used outside of this function\n",
    "  y_pred = logreg.predict(X_test) # make predictions on th test data\n",
    "  logit_roc_auc = roc_auc_score(y_test, logreg.predict(X_test))\n",
    "  print(classification_report(y_test, y_pred)) # check for classification report \n",
    "  print(\"The area under the curve is: %0.2f\"%logit_roc_auc)  # check for  AUC"
   ]
  },
  {
   "cell_type": "code",
   "execution_count": 12,
   "id": "7c2dd1df",
   "metadata": {},
   "outputs": [],
   "source": [
    "prepare_model(df,class_col='churn',cols_to_exclude=['customer_id','phone_no', 'year'])"
   ]
  },
  {
   "cell_type": "code",
   "execution_count": 13,
   "id": "b3c60779",
   "metadata": {},
   "outputs": [
    {
     "name": "stdout",
     "output_type": "stream",
     "text": [
      "              precision    recall  f1-score   support\n",
      "\n",
      "         0.0       0.90      0.98      0.94       513\n",
      "         1.0       0.47      0.13      0.20        63\n",
      "\n",
      "    accuracy                           0.89       576\n",
      "   macro avg       0.69      0.55      0.57       576\n",
      "weighted avg       0.85      0.89      0.86       576\n",
      "\n",
      "The area under the curve is: 0.55\n"
     ]
    },
    {
     "name": "stderr",
     "output_type": "stream",
     "text": [
      "D:\\programfiles\\anaconda\\lib\\site-packages\\sklearn\\linear_model\\_logistic.py:814: ConvergenceWarning: lbfgs failed to converge (status=1):\n",
      "STOP: TOTAL NO. of ITERATIONS REACHED LIMIT.\n",
      "\n",
      "Increase the number of iterations (max_iter) or scale the data as shown in:\n",
      "    https://scikit-learn.org/stable/modules/preprocessing.html\n",
      "Please also refer to the documentation for alternative solver options:\n",
      "    https://scikit-learn.org/stable/modules/linear_model.html#logistic-regression\n",
      "  n_iter_i = _check_optimize_result(\n"
     ]
    }
   ],
   "source": [
    "run_model(X_train,X_test,y_train,y_test)"
   ]
  },
  {
   "cell_type": "code",
   "execution_count": 14,
   "id": "36f61726",
   "metadata": {},
   "outputs": [],
   "source": [
    "def confusion_matrix(y_test,y_pred):\n",
    "  from sklearn.metrics import confusion_matrix\n",
    "  confusion_matrix = confusion_matrix(y_test, y_pred) # confusion matrix \n",
    "  print(confusion_matrix)\n",
    "\n",
    "  tn, fp, fn, tp = confusion_matrix.ravel()\n",
    "  print('TN: %0.2f'% tn)\n",
    "  print('TP: %0.2f'% tp)\n",
    "  print('FP: %0.2f'%fp)\n",
    "  print('FN: %0.2f'%fn)"
   ]
  },
  {
   "cell_type": "code",
   "execution_count": 21,
   "id": "cf32fd9d",
   "metadata": {},
   "outputs": [],
   "source": [
    "def roc_curve (logreg,X_test,y_test):\n",
    "  import matplotlib.pyplot as plt \n",
    "  from sklearn.metrics import roc_auc_score\n",
    "  from sklearn.metrics import roc_curve\n",
    "  logit_roc_auc = roc_auc_score(y_test, logreg.predict(X_test)) # ROC AUC score \n",
    "  fpr, tpr, thresholds = roc_curve(y_test, logreg.predict(X_test)) # ROC curve\n",
    "  #Setting the graph area\n",
    "  plt.figure()\n",
    "  plt.xlim([0.0, 1.0])\n",
    "  plt.ylim([0.0, 1.05])\n",
    "\n",
    "  #Plotting the worst line possiple\n",
    "  plt.plot([0, 1], [0, 1],'b--')\n",
    "\n",
    "  #Plotting the logistic regression we have built\n",
    "  plt.plot(fpr, tpr, color='darkorange', label='Logistic Regression (area = %0.2f)' % logit_roc_auc)\n",
    "\n",
    "  #Adding labels and etc\n",
    "  plt.xlabel('False Positive Rate')\n",
    "  plt.ylabel('True Positive Rate')\n",
    "  plt.title('ROC Curve')\n",
    "  plt.legend(loc=\"lower right\")\n",
    "  plt.savefig('../Graphs/Log_ROC')\n",
    "  plt.show()"
   ]
  },
  {
   "cell_type": "code",
   "execution_count": 22,
   "id": "9ff57ca8",
   "metadata": {},
   "outputs": [],
   "source": [
    "prepare_model(df,class_col='churn',cols_to_exclude=['customer_id','phone_no', 'year'])"
   ]
  },
  {
   "cell_type": "code",
   "execution_count": 23,
   "id": "d78250ac",
   "metadata": {},
   "outputs": [
    {
     "name": "stdout",
     "output_type": "stream",
     "text": [
      "[[504   9]\n",
      " [ 55   8]]\n",
      "TN: 504.00\n",
      "TP: 8.00\n",
      "FP: 9.00\n",
      "FN: 55.00\n"
     ]
    }
   ],
   "source": [
    "confusion_matrix(y_test,y_pred)"
   ]
  },
  {
   "cell_type": "code",
   "execution_count": 24,
   "id": "6270acc1",
   "metadata": {},
   "outputs": [
    {
     "data": {
      "image/png": "[encoded data removed]",
      "text/plain": [
       "<Figure size 640x480 with 1 Axes>"
      ]
     },
     "metadata": {},
     "output_type": "display_data"
    }
   ],
   "source": [
    "roc_curve(logreg,X_test,y_test)"
   ]
  },
  {
   "cell_type": "markdown",
   "id": "b12979a1",
   "metadata": {},
   "source": [
    "###### Save Model"
   ]
  },
  {
   "cell_type": "code",
   "execution_count": 20,
   "id": "5739d794",
   "metadata": {},
   "outputs": [],
   "source": [
    "# save the model using pickle function \n",
    "import pickle\n",
    "pickle.dump(logreg, open('../models/model1.pkl', 'wb'))"
   ]
  },
  {
   "cell_type": "code",
   "execution_count": 25,
   "id": "ae6b2993",
   "metadata": {},
   "outputs": [],
   "source": [
    "# load the saved model \n",
    "model = pickle.load(open('../models/model1.pkl', 'rb'))"
   ]
  },
  {
   "cell_type": "code",
   "execution_count": 26,
   "id": "165ad13d",
   "metadata": {},
   "outputs": [
    {
     "data": {
      "text/plain": [
       "array([0., 0., 0., 0., 0., 0., 0., 0., 0., 0., 0., 0., 0., 0., 0., 0., 0.,\n",
       "       0., 0., 0., 0., 0., 0., 0., 0., 0., 0., 0., 0., 0., 0., 0., 0., 0.,\n",
       "       0., 0., 0., 0., 0., 0., 0., 0., 0., 0., 0., 0., 0., 0., 0., 0., 0.,\n",
       "       0., 0., 0., 0., 0., 0., 0., 0., 0., 0., 0., 0., 0., 0., 0., 0., 0.,\n",
       "       0., 0., 0., 0., 0., 0., 0., 0., 0., 0., 0., 0., 0., 0., 0., 0., 0.,\n",
       "       0., 0., 0., 0., 0., 0., 0., 0., 0., 0., 0., 0., 0., 0., 0., 0., 0.,\n",
       "       0., 0., 1., 0., 0., 0., 0., 0., 0., 0., 0., 0., 0., 0., 0., 0., 0.,\n",
       "       0., 0., 0., 0., 0., 0., 0., 0., 0., 0., 0., 0., 0., 0., 0., 0., 0.,\n",
       "       0., 0., 0., 0., 0., 0., 0., 0., 0., 0., 0., 0., 0., 0., 0., 0., 0.,\n",
       "       0., 0., 0., 0., 0., 0., 0., 0., 0., 0., 1., 0., 0., 0., 0., 0., 0.,\n",
       "       0., 0., 0., 0., 0., 0., 0., 0., 0., 0., 0., 0., 0., 0., 0., 0., 0.,\n",
       "       0., 0., 0., 0., 0., 0., 0., 0., 0., 0., 0., 0., 0., 0., 0., 0., 0.,\n",
       "       0., 0., 0., 0., 0., 0., 0., 0., 0., 0., 1., 1., 0., 0., 0., 0., 0.,\n",
       "       0., 0., 0., 0., 0., 0., 0., 0., 0., 0., 0., 0., 1., 0., 0., 0., 0.,\n",
       "       0., 0., 0., 0., 0., 0., 0., 0., 0., 0., 0., 1., 0., 0., 0., 0., 0.,\n",
       "       0., 0., 1., 0., 0., 0., 0., 0., 0., 0., 0., 0., 0., 0., 0., 0., 0.,\n",
       "       0., 0., 0., 0., 0., 0., 1., 0., 0., 0., 1., 0., 0., 0., 0., 0., 0.,\n",
       "       0., 0., 0., 0., 0., 0., 0., 0., 0., 0., 0., 0., 0., 0., 0., 0., 0.,\n",
       "       0., 0., 0., 1., 0., 0., 0., 0., 0., 0., 0., 0., 0., 0., 0., 0., 0.,\n",
       "       0., 0., 0., 0., 0., 0., 0., 0., 0., 0., 0., 0., 0., 0., 0., 0., 0.,\n",
       "       0., 1., 0., 0., 0., 0., 0., 0., 0., 0., 0., 0., 0., 0., 0., 0., 0.,\n",
       "       0., 0., 0., 0., 0., 0., 0., 0., 0., 0., 0., 0., 0., 0., 0., 0., 0.,\n",
       "       0., 0., 0., 0., 0., 0., 0., 0., 0., 0., 0., 0., 0., 0., 0., 0., 0.,\n",
       "       0., 0., 0., 0., 0., 0., 0., 0., 0., 0., 0., 0., 0., 0., 0., 0., 0.,\n",
       "       0., 0., 0., 0., 0., 0., 0., 0., 1., 0., 0., 0., 0., 0., 0., 0., 0.,\n",
       "       0., 0., 0., 1., 0., 0., 0., 0., 0., 1., 0., 0., 0., 0., 0., 0., 0.,\n",
       "       0., 0., 0., 0., 0., 0., 0., 0., 0., 0., 0., 0., 1., 0., 0., 0., 0.,\n",
       "       0., 0., 0., 0., 0., 0., 0., 0., 0., 0., 0., 0., 0., 0., 0., 0., 0.,\n",
       "       0., 0., 0., 0., 0., 0., 1., 0., 0., 0., 1., 0., 0., 0., 0., 0., 0.,\n",
       "       0., 0., 0., 0., 0., 0., 0., 0., 0., 0., 0., 0., 0., 0., 0., 0., 0.,\n",
       "       0., 0., 0., 0., 0., 0., 0., 0., 0., 0., 0., 0., 0., 0., 0., 0., 0.,\n",
       "       0., 0., 0., 0., 0., 0., 0., 0., 0., 0., 0., 0., 0., 0., 0., 0., 0.,\n",
       "       0., 0., 0., 0., 0., 0., 0., 0., 0., 0., 0., 0., 0., 0., 0., 0., 0.,\n",
       "       0., 0., 0., 0., 0., 0., 0., 0., 0., 0., 0., 0., 0., 0., 0.])"
      ]
     },
     "execution_count": 26,
     "metadata": {},
     "output_type": "execute_result"
    }
   ],
   "source": [
    "# make predictions on the test data\n",
    "model.predict(X_test)"
   ]
  },
  {
   "cell_type": "markdown",
   "id": "6c94497f",
   "metadata": {},
   "source": [
    "###### Dealing with Class Imbalance"
   ]
  },
  {
   "cell_type": "code",
   "execution_count": 27,
   "id": "de83951c",
   "metadata": {},
   "outputs": [],
   "source": [
    "# class imbalance method 1 \n",
    "def run_model_bweights(X_train,X_test,y_train,y_test):\n",
    "    global logreg\n",
    "    logreg = LogisticRegression(random_state = 13,class_weight = 'balanced') # define class_weight parameter\n",
    "    logreg.fit(X_train, y_train) # fit the model \n",
    "    global y_pred\n",
    "    y_pred = logreg.predict(X_test) # predict on test data\n",
    "    logit_roc_auc = roc_auc_score(y_test, logreg.predict(X_test)) # ROC AUC score\n",
    "    print(classification_report(y_test, y_pred)) \n",
    "    print(\"The area under the curve is: %0.2f\"%logit_roc_auc) # AUC curve"
   ]
  },
  {
   "cell_type": "code",
   "execution_count": null,
   "id": "ecfc999b",
   "metadata": {},
   "outputs": [],
   "source": [
    "run_model_bweights(X_train,X_test,y_train,y_test)"
   ]
  },
  {
   "cell_type": "code",
   "execution_count": null,
   "id": "1355853a",
   "metadata": {},
   "outputs": [],
   "source": [
    "# class imbalance method 2\n",
    "def run_model_aweights(X_train,X_test,y_train,y_test,w):\n",
    "    global logreg\n",
    "    logreg = LogisticRegression(random_state = 13,class_weight=w) # define class_weight parameter\n",
    "    logreg.fit(X_train, y_train) # fit the model \n",
    "    global y_pred\n",
    "    y_pred = logreg.predict(X_test) # predict on test data\n",
    "    logit_roc_auc = roc_auc_score(y_test, logreg.predict(X_test))  # ROC AUC score\n",
    "    print(classification_report(y_test, y_pred))\n",
    "    print(\"The area under the curve is: %0.2f\"%logit_roc_auc)  # AUC curve"
   ]
  },
  {
   "cell_type": "code",
   "execution_count": null,
   "id": "c3bbebbe",
   "metadata": {},
   "outputs": [],
   "source": [
    "run_model_aweights(X_train,X_test,y_train,y_test,{0:90, 1:10})"
   ]
  },
  {
   "cell_type": "code",
   "execution_count": 28,
   "id": "581a1b18",
   "metadata": {},
   "outputs": [],
   "source": [
    "# class imbalance method 3\n",
    "def adjust_imbalance (X_train,y_train,class_col):\n",
    "  from sklearn.utils import resample\n",
    "  import pandas as pd\n",
    "  X = pd.concat([X_train, y_train], axis=1)\n",
    "\n",
    "  # separate the 2 classes\n",
    "  class0 = X[X[class_col]==0]\n",
    "  class1 = X[X[class_col]==1]\n",
    "\n",
    "  # Case 1 - bootstraps from the minority class\n",
    "  if len(class1)<len(class0):\n",
    "    resampled = resample(class1,\n",
    "                              replace=True, \n",
    "                              n_samples=len(class0), \n",
    "                              random_state=10) \n",
    "    resampled_df = pd.concat([resampled, class0])\n",
    "\n",
    "  # Case 1 - ressamples from the majority class\n",
    "  else:\n",
    "    resampled = resample(class1,\n",
    "                              replace=False, \n",
    "                              n_samples=len(class0), \n",
    "                              random_state=10) \n",
    "    resampled_df = pd.concat([resampled, class0])\n",
    "\n",
    "  return resampled_df"
   ]
  },
  {
   "cell_type": "code",
   "execution_count": null,
   "id": "1fa38d82",
   "metadata": {},
   "outputs": [],
   "source": [
    "resampled_df = adjust_imbalance (X_train,y_train,class_col = 'churn')"
   ]
  },
  {
   "cell_type": "code",
   "execution_count": null,
   "id": "94900963",
   "metadata": {},
   "outputs": [],
   "source": [
    "prepare_model(resampled_df,class_col = 'churn',cols_to_exclude=['customer_id','phone_no', 'year'])\n",
    "run_model(X_train,X_test,y_train,y_test)"
   ]
  },
  {
   "cell_type": "code",
   "execution_count": 31,
   "id": "21de4565",
   "metadata": {},
   "outputs": [],
   "source": [
    "def prepare_model_smote(df,class_col,cols_to_exclude):\n",
    "#Synthetic Minority Oversampling Technique. Generates new instances from existing minority cases that you supply as input. \n",
    "\n",
    "  cols=df.select_dtypes(include=np.number).columns.tolist() \n",
    "  X=df[cols]\n",
    "  X = X[X.columns.difference([class_col])]\n",
    "  X = X[X.columns.difference(cols_to_exclude)]\n",
    "  y=df[class_col]\n",
    "  global X_train, X_test, y_train, y_test\n",
    "  X_train, X_test, y_train, y_test = train_test_split(X, y, test_size=0.3, random_state=0)\n",
    "  sm = SMOTE(random_state=0, sampling_strategy=1.0)\n",
    "  X_train, y_train = sm.fit_resample(X_train, y_train) "
   ]
  },
  {
   "cell_type": "code",
   "execution_count": null,
   "id": "5d59005c",
   "metadata": {},
   "outputs": [],
   "source": [
    "prepare_model_smote(df,class_col = 'churn',cols_to_exclude=['customer_id','phone_no', 'year'])\n",
    "run_model(X_train,X_test,y_train,y_test)"
   ]
  },
  {
   "cell_type": "code",
   "execution_count": null,
   "id": "a12e52d7",
   "metadata": {},
   "outputs": [],
   "source": [
    "run_model(X_train,X_test,y_train,y_test)"
   ]
  },
  {
   "cell_type": "markdown",
   "id": "daf62cf0",
   "metadata": {},
   "source": [
    "###### Feature Selection"
   ]
  },
  {
   "cell_type": "code",
   "execution_count": null,
   "id": "939b6229",
   "metadata": {},
   "outputs": [],
   "source": []
  }
 ],
 "metadata": {
  "kernelspec": {
   "display_name": "Python 3 (ipykernel)",
   "language": "python",
   "name": "python3"
  },
  "language_info": {
   "codemirror_mode": {
    "name": "ipython",
    "version": 3
   },
   "file_extension": ".py",
   "mimetype": "text/x-python",
   "name": "python",
   "nbconvert_exporter": "python",
   "pygments_lexer": "ipython3",
   "version": "3.9.13"
  }
 },
 "nbformat": 4,
 "nbformat_minor": 5
}
